{
 "cells": [
  {
   "cell_type": "markdown",
   "metadata": {},
   "source": [
    "# Задание 1.1\n",
    "\n",
    "[Свертка списка](https://ru.wikipedia.org/wiki/%D0%A1%D0%B2%D1%91%D1%80%D1%82%D0%BA%D0%B0_%D1%81%D0%BF%D0%B8%D1%81%D0%BA%D0%B0) -  это обобщенная операция над списком, c помощью которой можно преобразовать список в единое значение. Например, рассмотрим реализации свертки слева и свертки справа (левоассоциативную свертку и правоассоциативную свертку):"
   ]
  },
  {
   "cell_type": "code",
   "execution_count": 1,
   "metadata": {
    "jupyter": {
     "outputs_hidden": true
    }
   },
   "outputs": [],
   "source": [
    "def foldl(f, x0, lst):\n",
    "    if not lst:\n",
    "        return x0\n",
    "    return foldl(f, f(x0, lst[0]), lst[1:])\n",
    "\n",
    "def foldr(f, x0, lst):\n",
    "    if not lst:\n",
    "        return x0\n",
    "    return f(lst[0], foldr(f, x0, lst[1:]))"
   ]
  },
  {
   "cell_type": "code",
   "execution_count": 2,
   "metadata": {},
   "outputs": [
    {
     "data": {
      "text/plain": [
       "6"
      ]
     },
     "execution_count": 2,
     "metadata": {},
     "output_type": "execute_result"
    }
   ],
   "source": [
    "#сумма\n",
    "foldl(lambda x, y: x + y, 0, [1, 2, 3])"
   ]
  },
  {
   "cell_type": "code",
   "execution_count": 3,
   "metadata": {},
   "outputs": [
    {
     "data": {
      "text/plain": [
       "'123'"
      ]
     },
     "execution_count": 3,
     "metadata": {},
     "output_type": "execute_result"
    }
   ],
   "source": [
    "#конкатенация\n",
    "foldl(lambda x, y: '{}{}'.format(x, y), '', [1, 2, 3])"
   ]
  },
  {
   "cell_type": "code",
   "execution_count": 4,
   "metadata": {},
   "outputs": [
    {
     "data": {
      "text/plain": [
       "(0.16666666666666666, 1.5)"
      ]
     },
     "execution_count": 4,
     "metadata": {},
     "output_type": "execute_result"
    }
   ],
   "source": [
    "f = lambda x, y: x / y\n",
    "foldl(f, 1, [1, 2, 3]), \\\n",
    "foldr(f, 1, [1, 2, 3])"
   ]
  },
  {
   "cell_type": "markdown",
   "metadata": {},
   "source": [
    "Задача: реализовать foldl через foldr и наоборот. Вместо многоточий нужно вставить выражения, которые бы привели к нужному результату. Модифицировать сам список нельзя. "
   ]
  },
  {
   "cell_type": "code",
   "execution_count": 5,
   "metadata": {
    "jupyter": {
     "outputs_hidden": true
    }
   },
   "outputs": [],
   "source": [
    "def foldl2(f, x0, lst):\n",
    "    return foldr(..., ..., lst)(...)"
   ]
  },
  {
   "cell_type": "code",
   "execution_count": 6,
   "metadata": {
    "jupyter": {
     "outputs_hidden": true
    }
   },
   "outputs": [],
   "source": [
    "def foldr2(f, x0, lst):\n",
    "    return foldl(..., ..., lst)(...)"
   ]
  },
  {
   "cell_type": "code",
   "execution_count": 7,
   "metadata": {},
   "outputs": [],
   "source": [
    "# вариант 1\n",
    "\n",
    "def foldl2(f, x0, lst):\n",
    "    f1 = lambda x, y: f(y,x)\n",
    "    return foldr(f1, x0, lst[::-1])\n",
    "\n",
    "def foldr2(f, y0, lst):\n",
    "    f1 = lambda x, y: f(y,x)\n",
    "    return foldl(f1, y0, lst[::-1])"
   ]
  },
  {
   "cell_type": "code",
   "execution_count": 8,
   "metadata": {},
   "outputs": [],
   "source": [
    "# вариант 2\n",
    "\n",
    "def foldl2(f,x0,lst):\n",
    "    if not lst:\n",
    "        return x0\n",
    "    func = lambda y,x: lambda z: x(f(z,y))\n",
    "    return foldr(func, lambda x: x, lst)(x0)\n",
    "\n",
    "def foldr2(f,x0,lst):\n",
    "    if not lst:\n",
    "        return x0\n",
    "    func = lambda x,y: lambda z: x(f(y,z))\n",
    "    return foldl(func,lambda x: x, lst)(x0)"
   ]
  },
  {
   "cell_type": "code",
   "execution_count": 9,
   "metadata": {},
   "outputs": [
    {
     "name": "stdout",
     "output_type": "stream",
     "text": [
      "0.3333333333333333\n",
      "0.3333333333333333\n",
      "0.75\n",
      "0.75\n"
     ]
    }
   ],
   "source": [
    "# проверка\n",
    "f = lambda x, y: x / y\n",
    "lst = [1, 2, 3]\n",
    "print(foldl(f, 2,lst))\n",
    "print(foldl2(f, 2, lst))\n",
    "\n",
    "print(foldr(f, 2,lst))\n",
    "print(foldr2(f, 2, lst))"
   ]
  },
  {
   "cell_type": "markdown",
   "metadata": {},
   "source": [
    "# Задание 1.2\n",
    "\n",
    "нужно написать функцию, которая принимает две строки и проверяет, входит ли хотя бы одна перестановка второй строки в первую. Например:\n",
    "\n",
    "> a = 'abcrotm'\n",
    "> \n",
    "> b = 'tro'\n",
    "\n",
    "функция def check_inv(a, b) вернет True, так как 'rot' содержится в 'abcrotm'. Нужно подумать как можно более оптимальный алгоритм и оценить его сложность. "
   ]
  },
  {
   "cell_type": "code",
   "execution_count": 10,
   "metadata": {
    "jupyter": {
     "outputs_hidden": true
    }
   },
   "outputs": [],
   "source": [
    "def check_inv(a, b):\n",
    "    pass"
   ]
  },
  {
   "cell_type": "code",
   "execution_count": 14,
   "metadata": {},
   "outputs": [
    {
     "name": "stdout",
     "output_type": "stream",
     "text": [
      "False\n"
     ]
    }
   ],
   "source": [
    "# Идея: будем идти по стр, как только найдем букву из слова, то будем анализировать буквы после нее\n",
    "\n",
    "\n",
    "def my_split(s):  # разбиваем строку на символы\n",
    "    return [char for char in s]\n",
    "\n",
    "def check_inv(a, b):  # на входе строка и слово\n",
    "    len_of_b = len(b) # количество букв в слове\n",
    "    len_of_a = len(a) # количество букв в строке\n",
    "    #print(\"количество букв в строке:\",len_of_b,\"количество букв в слове:\",len_of_a)\n",
    "    simbols_str = my_split(b) # получили массив символов слова\n",
    "    #print(simbols_str)\n",
    "    \n",
    "    if len_of_b > len_of_a:\n",
    "        return print(\"Ошибка ввода данных\")\n",
    "    \n",
    "    if len_of_b==1 :  # если в слове одна буква\n",
    "        if b in a:\n",
    "            return True\n",
    "        else:\n",
    "            return False\n",
    "    \n",
    "    i = 0\n",
    "    fl = False # входит перестановка в строку или нет\n",
    "    \n",
    "    while i < len_of_a - len_of_b: # идем по элементам строки\n",
    "        \n",
    "        temp_simb = a[i] # рассматриваем i-тый элемент\n",
    "        if temp_simb in simbols_str: # если найденная буква есть в слове\n",
    "            #print(\"нашли букву \",temp_simb)\n",
    "            simbols_str_copy = simbols_str[0::] # копия букв слова\n",
    "            simbols_str_copy.remove(temp_simb) # то удаляем ее из массива-проверки\n",
    "            #print(\"массива-проверки\", simbols_str_copy)\n",
    "            \n",
    "            for j in range(1,len_of_b):\n",
    "                temp = a[i+j]\n",
    "                if temp in simbols_str_copy:\n",
    "                    simbols_str_copy.remove(temp)\n",
    "                    #print(\"следующая буква хорошая\")\n",
    "                    if simbols_str_copy==[]:\n",
    "                        #print(\"не осталось букв в слове\")\n",
    "                        fl = True\n",
    "                        return fl\n",
    "                    \n",
    "                else:\n",
    "                    #print(\"следующая буква плохая\")\n",
    "                    i = i+j\n",
    "                    #print(\"переходим к позиции \", i)\n",
    "                    break\n",
    "        else:\n",
    "            i = i+1\n",
    "    return fl\n",
    "\n",
    "    \n",
    "    \n",
    "\n",
    "a = 'fduaaydgjvd'\n",
    "b = 'ayg'\n",
    "print(check_inv(a, b))\n"
   ]
  },
  {
   "cell_type": "markdown",
   "metadata": {},
   "source": [
    "# Задание 1.3\n",
    "\n",
    "Реализовать бинарное дерево (класс Tree), в нём методы __repr__, __str__, __iter__ (итерация только по листьям)."
   ]
  },
  {
   "cell_type": "code",
   "execution_count": null,
   "metadata": {},
   "outputs": [],
   "source": [
    "class Tree:\n",
    "    def __init__(self, value=None, left=None, right=None):\n",
    "        self.left = left\n",
    "        self.right = right\n",
    "        self.value = value\n",
    "        \n",
    "    def __iter__(self):\n",
    "        pass\n",
    "    \n",
    "    def __str__(self):\n",
    "        pass\n",
    "    \n",
    "    def __repr__(self):\n",
    "        pass\n",
    "    \n",
    "tree = Tree(0, Tree(1, Tree(3), Tree(4)),                             \n",
    "               Tree(2))\n",
    "\n",
    "list(tree) == [3, 4, 2]"
   ]
  },
  {
   "cell_type": "code",
   "execution_count": 15,
   "metadata": {},
   "outputs": [
    {
     "name": "stdout",
     "output_type": "stream",
     "text": [
      "(0(1(3)(4))(2))\n",
      "\n",
      "(0(1(3)(4))(2))"
     ]
    }
   ],
   "source": [
    "class Tree:\n",
    "    def __init__(self, value=None, left=None, right=None):\n",
    "        self.left = left\n",
    "        self.right = right\n",
    "        self.value = value\n",
    "        \n",
    "    def __iter__(self): # итератор по листьям\n",
    "        def is_leaf(node): return (node.left == None) and (node.right == None)\n",
    "        def sub(node, s):\n",
    "            if node== None:\n",
    "                pass\n",
    "            else:\n",
    "                if is_leaf(node):\n",
    "                    #print(node.value)\n",
    "                    s.append(node.value)\n",
    "                sub(node.left, s)\n",
    "                sub(node.right, s)\n",
    "                return s\n",
    "            \n",
    "        return iter(sub(self, []))\n",
    "    \n",
    "    def __str__(self): # красивый вывод дерева\n",
    "        def pretty_print(node):\n",
    "            if (node == None):\n",
    "                pass\n",
    "            else:\n",
    "                print(\"(\",end='')\n",
    "                print(node.value,end='')\n",
    "                pretty_print(node.left)\n",
    "                \n",
    "                pretty_print(node.right)\n",
    "                print(\")\",end='')\n",
    "                \n",
    "        pretty_print(self)\n",
    "    \n",
    "    def __repr__(self): \n",
    "        return tree.__str__()\n",
    "            \n",
    "    \n",
    "tree = Tree(0, Tree(1, Tree(3), Tree(4)),   # само дерево                          \n",
    "               Tree(2))\n",
    "\n",
    "#list(tree) == [3, 4, 2]\n",
    "\n",
    "tree.__str__()\n",
    "print(\"\\n\")\n",
    "tree.__repr__()"
   ]
  },
  {
   "cell_type": "code",
   "execution_count": 16,
   "metadata": {},
   "outputs": [
    {
     "name": "stdout",
     "output_type": "stream",
     "text": [
      "3\n",
      "4\n",
      "2\n"
     ]
    }
   ],
   "source": [
    "# итератор по листьям\n",
    "for a in tree:\n",
    "    print(a)"
   ]
  },
  {
   "cell_type": "markdown",
   "metadata": {},
   "source": [
    "# Задание 1.4\n",
    "\n",
    "Реализовать простейший калькулятор математических выражений:\n",
    "- только целые числа\n",
    "- **+**, **\\-**, **\\***, **\\**\n",
    "- скобки\n",
    "\n",
    "**Можно использовать регулярные выражения**"
   ]
  },
  {
   "cell_type": "code",
   "execution_count": null,
   "metadata": {},
   "outputs": [],
   "source": [
    "def calc(expr):\n",
    "    pass\n",
    "\n",
    "calc('2 * ( 15 - 3 * 4 ) - 2') == 4"
   ]
  },
  {
   "cell_type": "code",
   "execution_count": 19,
   "metadata": {},
   "outputs": [
    {
     "name": "stdout",
     "output_type": "stream",
     "text": [
      "simbols ['2', '*', '(', '15', '-', '(', '3', '*', '4', ')', ')', '-', '1']\n",
      "--------\n",
      "summ 5\n"
     ]
    }
   ],
   "source": [
    "from pythonds.basic.stack import Stack\n",
    "from pythonds.trees.binaryTree import BinaryTree\n",
    "\n",
    "def operation(a,b,c):  # производим операции\n",
    "    if b == \"+\":\n",
    "        return a+c\n",
    "    elif b == '-':\n",
    "        return a-c\n",
    "    elif b == '/':\n",
    "        return a/c\n",
    "    elif b == '*':\n",
    "        return a*c\n",
    "    \n",
    "def result(Tree):   # обход всего дерева и вычисление выражения\n",
    "    l_child = Tree.getLeftChild()\n",
    "    r_child = Tree.getRightChild()\n",
    "    \n",
    "    if l_child != None and r_child !=None:  # значит этот узел не лист \n",
    "        oper = Tree.getRootVal()            # смотрим, какая операция в нем хранится\n",
    "        return operation(result(l_child),oper,result(r_child)) # реккурсивно вычисляем\n",
    "    else:                                   # узел - лист, сл-но это обязательно число, сл-но возвращаем значение\n",
    "        return Tree.getRootVal() \n",
    "\n",
    "\n",
    "def calc(expr):\n",
    "    simbols = expr.split()  # разбили строку на символы\n",
    "    print('simbols',simbols)\n",
    "    \n",
    "    # строим бинарное дерево\n",
    "    my_Stack = Stack()       # создаем стек\n",
    "    my_Tree = BinaryTree('') # создаем пустое бинарное дерево\n",
    "    my_Stack.push(my_Tree)   # кладем его в стек\n",
    "    \n",
    "    for i in range(len(simbols)):  # идем по символам входной строки\n",
    "        temp = simbols[i]\n",
    "        \n",
    "        if temp == '(':  \n",
    "            my_Tree.insertLeft('') # добавляем левого потомка\n",
    "            my_Stack.push(my_Tree)\n",
    "            my_Tree = my_Tree.getLeftChild() # спускаемся к нему\n",
    "        \n",
    "        elif temp in ['+','-','/','*']:\n",
    "            if my_Tree.key == '':\n",
    "                my_Tree.setRootVal(temp) # корневой узел - оператор из списка\n",
    "                my_Tree.insertRight('')  # добавляем правого потомка\n",
    "                my_Stack.push(my_Tree)\n",
    "                my_Tree = my_Tree.getRightChild() # спускаемся к нему\n",
    "\n",
    "            else:\n",
    "                my_too_Tree = BinaryTree('')\n",
    "                my_too_Tree.setRootVal(temp)\n",
    "                my_too_Tree.insertLeft(my_Tree)\n",
    "                my_Stack.push(my_too_Tree)\n",
    "                my_Tree = my_Stack.pop()\n",
    "                my_Tree.insertRight('')\n",
    "                my_Stack.push(my_Tree)\n",
    "                my_Tree = my_Tree.getRightChild() # спускаемся к нему\n",
    "            \n",
    "        elif temp == ')':\n",
    "            my_Tree = my_Stack.pop()   # возвращаемся к родителю \n",
    "            \n",
    "        elif temp not in ['+','-','/','*',')']: # те это число\n",
    "            my_Tree.setRootVal(int(temp))       # корневой узел - число\n",
    "            parant = my_Stack.pop()             # далее возвращаемся к родителю\n",
    "            my_Tree = parant\n",
    "            \n",
    "        else:\n",
    "            return print(\"Ошибка ввода! Убедитесь, что все символы отделены пробелами с двух сторон\")\n",
    "    \n",
    "    # будем идти по бинарному дереву и вычислять значение выражения\n",
    "   # print(my_Tree.postorder())\n",
    "    print(\"--------\")\n",
    "    calc_result = result(my_Tree)\n",
    "            \n",
    "    return calc_result\n",
    "\n",
    "summ = calc('2 * ( 15 - ( 3 * 4 ) ) - 1') \n",
    "#summ = calc('( 2 - 3 ) * 2 ')\n",
    "\n",
    "print(\"summ\", summ)"
   ]
  },
  {
   "cell_type": "code",
   "execution_count": null,
   "metadata": {},
   "outputs": [],
   "source": []
  }
 ],
 "metadata": {
  "kernelspec": {
   "display_name": "Python 3",
   "language": "python",
   "name": "python3"
  },
  "language_info": {
   "codemirror_mode": {
    "name": "ipython",
    "version": 3
   },
   "file_extension": ".py",
   "mimetype": "text/x-python",
   "name": "python",
   "nbconvert_exporter": "python",
   "pygments_lexer": "ipython3",
   "version": "3.8.5"
  },
  "vscode": {
   "interpreter": {
    "hash": "916dbcbb3f70747c44a77c7bcd40155683ae19c65e1c03b4aa3499c5328201f1"
   }
  }
 },
 "nbformat": 4,
 "nbformat_minor": 4
}
